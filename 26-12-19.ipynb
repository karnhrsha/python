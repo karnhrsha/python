{
 "cells": [
  {
   "cell_type": "code",
   "execution_count": 5,
   "metadata": {},
   "outputs": [
    {
     "name": "stdout",
     "output_type": "stream",
     "text": [
      "enter first number23\n",
      "enter second number41\n",
      "enter thirdnumber12\n",
      "largest number is 41\n"
     ]
    }
   ],
   "source": [
    "# FIND LARGEST OF GIVEN 3 NUMBERS\n",
    "a=int(input(\"enter first number\"))\n",
    "b=int(input(\"enter second number\"))\n",
    "c=int(input(\"enter thirdnumber\"))\n",
    "if a>b and a>c:\n",
    "    print(\"largest number is\",a)\n",
    "elif b>c and b>a:\n",
    "    print(\"largest number is\",b)\n",
    "else:\n",
    "    print(\"largest number is\",c)"
   ]
  },
  {
   "cell_type": "markdown",
   "metadata": {},
   "source": [
    "# While statement\n",
    "## syntax:\n",
    "### while boolean_condition:<br>\n",
    "            statements<br>\n",
    "            Increment/Decrement <br>"
   ]
  },
  {
   "cell_type": "code",
   "execution_count": 1,
   "metadata": {},
   "outputs": [
    {
     "name": "stdout",
     "output_type": "stream",
     "text": [
      "gitam\n",
      "gitam\n",
      "gitam\n",
      "gitam\n",
      "gitam\n"
     ]
    }
   ],
   "source": [
    "x=0\n",
    "while x<5:\n",
    "    print(\"gitam\")\n",
    "    x=x+1"
   ]
  },
  {
   "cell_type": "code",
   "execution_count": 3,
   "metadata": {},
   "outputs": [
    {
     "name": "stdout",
     "output_type": "stream",
     "text": [
      "enter a number10\n",
      "1 2 3 4 5 6 7 8 9 10 "
     ]
    }
   ],
   "source": [
    "# print n natural numnbers using while loop\n",
    "# input:10\n",
    "# output:12345678910\n",
    "n=int(input(\"enter a number\"))\n",
    "x=0\n",
    "while x<n:\n",
    "    x=x+1\n",
    "    print(x,end=\" \")"
   ]
  },
  {
   "cell_type": "code",
   "execution_count": 2,
   "metadata": {},
   "outputs": [
    {
     "name": "stdout",
     "output_type": "stream",
     "text": [
      "enter a number10\n",
      "30\n"
     ]
    }
   ],
   "source": [
    "# add only even number 1ton\n",
    "# input:10\n",
    "# output: 30\n",
    "n=int(input(\"enter a number\"))\n",
    "i=1\n",
    "s=0\n",
    "while i<=n:\n",
    "    if i%2 == 0:\n",
    "        s  = s+i\n",
    "    i=i+1\n",
    "print(s) \n"
   ]
  },
  {
   "cell_type": "code",
   "execution_count": 3,
   "metadata": {},
   "outputs": [
    {
     "name": "stdout",
     "output_type": "stream",
     "text": [
      "enter a number1234\n",
      "4 3 2 1 "
     ]
    }
   ],
   "source": [
    "#reverse of a number\n",
    "n=int(input(\"enter a number\"))\n",
    "while n!=0:\n",
    "    r=n%10\n",
    "    print(r,end=\" \")\n",
    "    n=n//10"
   ]
  },
  {
   "cell_type": "markdown",
   "metadata": {},
   "source": [
    "# Functional programing\n",
    "- Simple\n",
    "- Easy read\n",
    "- Lengthy programs divides into sub programs\\\n",
    "## Syntax:"
   ]
  },
  {
   "cell_type": "code",
   "execution_count": null,
   "metadata": {},
   "outputs": [],
   "source": [
    "def nameofthefunction(<parameters>):\n",
    "    statements\n",
    "    return"
   ]
  },
  {
   "cell_type": "code",
   "execution_count": 6,
   "metadata": {},
   "outputs": [
    {
     "data": {
      "text/plain": [
       "6"
      ]
     },
     "execution_count": 6,
     "metadata": {},
     "output_type": "execute_result"
    }
   ],
   "source": [
    "# input:1234\n",
    "#output:6(2+4)\n",
    "def addevendigit(n):\n",
    "    sum=0\n",
    "    while n!=0:\n",
    "        r=n%10\n",
    "        if r%2==0:\n",
    "            sum=sum+r\n",
    "        n=n//10\n",
    "    return sum\n",
    "addevendigit(1234)"
   ]
  },
  {
   "cell_type": "code",
   "execution_count": 9,
   "metadata": {},
   "outputs": [
    {
     "data": {
      "text/plain": [
       "9"
      ]
     },
     "execution_count": 9,
     "metadata": {},
     "output_type": "execute_result"
    }
   ],
   "source": [
    "# read input\n",
    "#input :19528\n",
    "# output:9\n",
    "def largestofdigits(n):\n",
    "    l=0\n",
    "    while n!=0:\n",
    "        r=n%10\n",
    "        if r>l:\n",
    "            l=r\n",
    "        n=n//10\n",
    "    return l\n",
    "largestofdigits(19528)"
   ]
  },
  {
   "cell_type": "code",
   "execution_count": 14,
   "metadata": {},
   "outputs": [
    {
     "name": "stdout",
     "output_type": "stream",
     "text": [
      "321"
     ]
    }
   ],
   "source": [
    "# input:123\n",
    "# output:321\n",
    "def revnum(n):\n",
    "    while n!=0:\n",
    "        r=n%10\n",
    "        print(r,end=\"\")\n",
    "        n=n//10\n",
    "    \n",
    "revnum(123)"
   ]
  },
  {
   "cell_type": "code",
   "execution_count": 29,
   "metadata": {},
   "outputs": [
    {
     "name": "stdout",
     "output_type": "stream",
     "text": [
      "9\n"
     ]
    }
   ],
   "source": [
    "def largestnum(n,m,o):\n",
    "    l1=0\n",
    "    l2=0\n",
    "    l3=0\n",
    "    while n!=0:\n",
    "        p=n%10 \n",
    "        if p>l1:\n",
    "            l1=p\n",
    "        n=n//10\n",
    "    while m!=0:\n",
    "        q=m%10\n",
    "        if q>l2:\n",
    "            l2=q\n",
    "        m=m//10\n",
    "    while o!=0:\n",
    "        r=o%10\n",
    "        if r>l3:\n",
    "            l3=r\n",
    "        o=o//10\n",
    "    if l1>l2 and l1>l3:\n",
    "        return l1\n",
    "    elif l2>l1 and l2>l3:\n",
    "        return l2\n",
    "    else:\n",
    "        return l3\n",
    "print(largestnum(123,456,789))\n",
    "    "
   ]
  },
  {
   "cell_type": "code",
   "execution_count": 23,
   "metadata": {},
   "outputs": [
    {
     "name": "stdout",
     "output_type": "stream",
     "text": [
      "yes\n",
      "no\n"
     ]
    }
   ],
   "source": [
    "def palin(n):\n",
    "    rev=0\n",
    "    buffer=n\n",
    "    while n!=0:\n",
    "        r=n%10\n",
    "        rev=rev*10+r\n",
    "        n=n//10\n",
    "    if buffer==rev:\n",
    "        return \"yes\"\n",
    "    else:\n",
    "        return \"no\"\n",
    "print(palin(121))\n",
    "print(palin(123))"
   ]
  },
  {
   "cell_type": "code",
   "execution_count": 36,
   "metadata": {},
   "outputs": [
    {
     "name": "stdout",
     "output_type": "stream",
     "text": [
      "1 2 3 4 5 6 7 8 9 10 "
     ]
    }
   ],
   "source": [
    "def num(n):\n",
    "    for i in range(1,n+1,1):\n",
    "             print(i,end=\" \")\n",
    "num(10)"
   ]
  },
  {
   "cell_type": "code",
   "execution_count": 43,
   "metadata": {},
   "outputs": [
    {
     "name": "stdout",
     "output_type": "stream",
     "text": [
      "11 12 13 14 15 "
     ]
    }
   ],
   "source": [
    "def num(m,n):\n",
    "    for i in range(m,n+1):\n",
    "             print(i,end=\" \")\n",
    "num(11,15)"
   ]
  },
  {
   "cell_type": "code",
   "execution_count": 34,
   "metadata": {},
   "outputs": [
    {
     "name": "stdout",
     "output_type": "stream",
     "text": [
      "1 4 7 10 "
     ]
    }
   ],
   "source": [
    "def num(m,n):\n",
    "    for i in range(m,n+1,3):\n",
    "             print(i,end=\" \")\n",
    "num(1,10)"
   ]
  },
  {
   "cell_type": "code",
   "execution_count": 41,
   "metadata": {},
   "outputs": [
    {
     "name": "stdout",
     "output_type": "stream",
     "text": [
      "10 9 8 7 6 5 4 3 2 1 "
     ]
    }
   ],
   "source": [
    "def num(start,end):\n",
    "    for i in range(end,start-1,-1):\n",
    "             print(i,end=\" \")\n",
    "num(1,10)"
   ]
  },
  {
   "cell_type": "markdown",
   "metadata": {},
   "source": [
    "# Data structure types:\n",
    "- list\n",
    "- tuple\n",
    "- dictionary\n"
   ]
  },
  {
   "cell_type": "markdown",
   "metadata": {},
   "source": [
    "# List:\n",
    "- crud operations\n",
    "* c-create\n",
    "* r-read\n",
    "* u-update\n",
    "* d-delete\n",
    "- list can be changed or mutable\n",
    "\n",
    "## example:\n",
    "- list=[1,2,3,4]\n",
    "\n"
   ]
  },
  {
   "cell_type": "code",
   "execution_count": 47,
   "metadata": {},
   "outputs": [
    {
     "name": "stdout",
     "output_type": "stream",
     "text": [
      "[1, 2, 3, 4, 5]\n",
      "2\n",
      "3\n"
     ]
    }
   ],
   "source": [
    "li=[1,2,3,4,5]\n",
    "print(li)\n",
    "print(li[1])\n",
    "print(li[-3])"
   ]
  },
  {
   "cell_type": "code",
   "execution_count": null,
   "metadata": {},
   "outputs": [],
   "source": []
  }
 ],
 "metadata": {
  "kernelspec": {
   "display_name": "Python 3",
   "language": "python",
   "name": "python3"
  },
  "language_info": {
   "codemirror_mode": {
    "name": "ipython",
    "version": 3
   },
   "file_extension": ".py",
   "mimetype": "text/x-python",
   "name": "python",
   "nbconvert_exporter": "python",
   "pygments_lexer": "ipython3",
   "version": "3.7.3"
  }
 },
 "nbformat": 4,
 "nbformat_minor": 2
}
