{
 "cells": [
  {
   "cell_type": "markdown",
   "metadata": {},
   "source": [
    "# List Examples"
   ]
  },
  {
   "cell_type": "code",
   "execution_count": 40,
   "metadata": {},
   "outputs": [
    {
     "name": "stdout",
     "output_type": "stream",
     "text": [
      "['gitam', 123, 124, 1323, 1232, 3451]\n",
      "123\n",
      "[124, 1323, 1232, 3451]\n",
      "[124, 1323]\n",
      "3451\n",
      "[124, 1323, 1232]\n",
      "[3451, 1232, 1323, 124, 123, 'gitam']\n",
      "[3451, 1232, 1323, 124, 123, 'gitam']\n"
     ]
    }
   ],
   "source": [
    "li=[\"gitam\",123,124,1323,1232,3451]\n",
    "print(li)\n",
    "print(li[1])\n",
    "print(li[2:])\n",
    "print(li[2:4])\n",
    "print(li[-1])\n",
    "print(li[-4:-1])\n",
    "print(li[::-1])\n",
    "print(li[-1::-1])"
   ]
  },
  {
   "cell_type": "code",
   "execution_count": 5,
   "metadata": {},
   "outputs": [
    {
     "name": "stdout",
     "output_type": "stream",
     "text": [
      "['ajay', 123, 124, 1323, 1232, 3451]\n"
     ]
    }
   ],
   "source": [
    "#update\n",
    "li[0]=\"ajay\"\n",
    "print(li)"
   ]
  },
  {
   "cell_type": "code",
   "execution_count": 6,
   "metadata": {},
   "outputs": [
    {
     "name": "stdout",
     "output_type": "stream",
     "text": [
      "['ajay', 123, 124, 1232, 3451]\n"
     ]
    }
   ],
   "source": [
    "#delete\n",
    "del li[3]\n",
    "print(li)"
   ]
  },
  {
   "cell_type": "code",
   "execution_count": 10,
   "metadata": {},
   "outputs": [
    {
     "name": "stdout",
     "output_type": "stream",
     "text": [
      "4\n",
      "[1, 2, 3, 4, 1, 2, 3, 4]\n",
      "False\n",
      "True\n"
     ]
    }
   ],
   "source": [
    "li=[1,2,3,4]\n",
    "print(len(li))\n",
    "print(li*2)\n",
    "print(5 in li)\n",
    "print(4 in li)"
   ]
  },
  {
   "cell_type": "markdown",
   "metadata": {},
   "source": [
    "# Basic list functions"
   ]
  },
  {
   "cell_type": "code",
   "execution_count": 16,
   "metadata": {},
   "outputs": [
    {
     "name": "stdout",
     "output_type": "stream",
     "text": [
      "5\n",
      "1\n",
      "15\n",
      "3.0\n"
     ]
    }
   ],
   "source": [
    "li=[1,2,3,4,5]\n",
    "print(max(li))\n",
    "print(min(li))\n",
    "print(sum(li))\n",
    "# average\n",
    "print(sum(li)/len(li))"
   ]
  },
  {
   "cell_type": "code",
   "execution_count": 23,
   "metadata": {},
   "outputs": [
    {
     "name": "stdout",
     "output_type": "stream",
     "text": [
      "[1, 2, 3, 4, 5]\n",
      "[1, 2, 3, 4, 5, 6]\n",
      "[0, 1, 2, 3, 4, 5, 6]\n"
     ]
    }
   ],
   "source": [
    "li=[1,2,3,4,5]\n",
    "print(li)\n",
    " # add at end of the list\n",
    "li.append(6)\n",
    "print(li)\n",
    "# add at any index of the list\n",
    "li.insert(0,0)\n",
    "print(li)"
   ]
  },
  {
   "cell_type": "code",
   "execution_count": 28,
   "metadata": {},
   "outputs": [
    {
     "name": "stdout",
     "output_type": "stream",
     "text": [
      "[1, 4, 2, 6, 43, 3, 8]\n",
      "[1, 2, 3, 4, 6, 8, 43]\n",
      "[1, 2, 3, 4, 6, 8]\n",
      "[1, 2, 4, 6, 8]\n"
     ]
    }
   ],
   "source": [
    "# sorting in asscending order\n",
    "li=[1,4,2,6,43,3,8]\n",
    "print(li)\n",
    "li.sort()\n",
    "print(li)\n",
    "# to delete last index item in the list\n",
    "li.pop()\n",
    "print(li)\n",
    "#to remove item from specific index\n",
    "li.pop(2)\n",
    "print(li)"
   ]
  },
  {
   "cell_type": "code",
   "execution_count": 29,
   "metadata": {},
   "outputs": [
    {
     "name": "stdout",
     "output_type": "stream",
     "text": [
      "87\n",
      "32\n"
     ]
    }
   ],
   "source": [
    "# function to return large num from list \n",
    "def largenumber(li):\n",
    "    li.sort()\n",
    "    return li[-1]\n",
    "def genericlarge(li,n):\n",
    "    li.sort()\n",
    "    return li[-n]\n",
    "li=[19,1,3,87,32,21,36]\n",
    "print(largenumber(li))\n",
    "print(genericlarge(li,3))"
   ]
  },
  {
   "cell_type": "code",
   "execution_count": 32,
   "metadata": {},
   "outputs": [
    {
     "name": "stdout",
     "output_type": "stream",
     "text": [
      "1\n",
      "19\n"
     ]
    }
   ],
   "source": [
    "def smallnumber(li):\n",
    "    li.sort()\n",
    "    return li[0]\n",
    "def genericsmall(li,n):\n",
    "    li.sort()\n",
    "    return li[n-1]\n",
    "li=[19,1,3,87,32,21,36]\n",
    "print(smallnumber(li))\n",
    "print(genericsmall(li,3))"
   ]
  },
  {
   "cell_type": "markdown",
   "metadata": {},
   "source": [
    "# Tuples\n",
    "- values seperated by comma and enclosed by parenthesis()\n",
    "- values cannot be changed i.e immutable\n",
    "## Difference between list and tuple\n",
    "- list can be modified\n",
    "- list used to access means modify,add,delete,update\n",
    "- tuples cannot be modified\n",
    "- used to access the data only\n"
   ]
  },
  {
   "cell_type": "code",
   "execution_count": 33,
   "metadata": {},
   "outputs": [
    {
     "name": "stdout",
     "output_type": "stream",
     "text": [
      "(1, 2, 3, 4, 5)\n",
      "<class 'tuple'>\n"
     ]
    }
   ],
   "source": [
    "t1=(1,2,3,4,5)\n",
    "print(t1)\n",
    "print(type(t1))"
   ]
  },
  {
   "cell_type": "markdown",
   "metadata": {},
   "source": [
    "# Dictionaries:\n",
    "- it works on concept of set unique data\n",
    "- it contains keys and values\n",
    "- each key is seperated by its values by colon \":\"\n",
    "- each key and values seperated by comma \",\"\n",
    "- dictionary enclosed by \"{}\"\n"
   ]
  },
  {
   "cell_type": "code",
   "execution_count": 41,
   "metadata": {},
   "outputs": [
    {
     "name": "stdout",
     "output_type": "stream",
     "text": [
      "{'name': 'gitam', 'email': 'gitam@gmail.com', 'address': 'hyderabad'}\n"
     ]
    }
   ],
   "source": [
    "d1={\"name\":\"gitam\",\"email\":\"gitam@gmail.com\",\"address\":\"hyderabad\"}\n",
    "print(d1)"
   ]
  },
  {
   "cell_type": "code",
   "execution_count": 43,
   "metadata": {},
   "outputs": [
    {
     "data": {
      "text/plain": [
       "'gitam'"
      ]
     },
     "execution_count": 43,
     "metadata": {},
     "output_type": "execute_result"
    }
   ],
   "source": [
    "d1[\"name\"]\n"
   ]
  },
  {
   "cell_type": "code",
   "execution_count": 45,
   "metadata": {},
   "outputs": [
    {
     "data": {
      "text/plain": [
       "{'name': 'gitam', 'email': 'python@gmail.com', 'address': 'hyderabad'}"
      ]
     },
     "execution_count": 45,
     "metadata": {},
     "output_type": "execute_result"
    }
   ],
   "source": [
    "d1[\"email\"]=\"python@gmail.com\"\n",
    "d1"
   ]
  },
  {
   "cell_type": "code",
   "execution_count": 46,
   "metadata": {},
   "outputs": [
    {
     "data": {
      "text/plain": [
       "{'name': 'gitam',\n",
       " 'email': 'python@gmail.com',\n",
       " 'address': 'hyderabad',\n",
       " 'course': 'python'}"
      ]
     },
     "execution_count": 46,
     "metadata": {},
     "output_type": "execute_result"
    }
   ],
   "source": [
    "d1[\"course\"]=\"python\"\n",
    "d1"
   ]
  },
  {
   "cell_type": "code",
   "execution_count": 52,
   "metadata": {},
   "outputs": [
    {
     "data": {
      "text/plain": [
       "{'name': 'gitam', 'address': 'hyderabad', 'course': 'python'}"
      ]
     },
     "execution_count": 52,
     "metadata": {},
     "output_type": "execute_result"
    }
   ],
   "source": [
    "d1={\"name\":\"gitam\",\"email\":\"gitam@gmail.com\",\"address\":\"hyderabad\"}\n",
    "d1[\"course\"]=\"python\"\n",
    "# delete\n",
    "del d1[\"email\"]\n",
    "d1\n"
   ]
  },
  {
   "cell_type": "code",
   "execution_count": 53,
   "metadata": {},
   "outputs": [
    {
     "data": {
      "text/plain": [
       "dict_keys(['name', 'address', 'course'])"
      ]
     },
     "execution_count": 53,
     "metadata": {},
     "output_type": "execute_result"
    }
   ],
   "source": [
    "d1.keys()"
   ]
  },
  {
   "cell_type": "code",
   "execution_count": 54,
   "metadata": {},
   "outputs": [
    {
     "data": {
      "text/plain": [
       "dict_values(['gitam', 'hyderabad', 'python'])"
      ]
     },
     "execution_count": 54,
     "metadata": {},
     "output_type": "execute_result"
    }
   ],
   "source": [
    "d1.values()"
   ]
  },
  {
   "cell_type": "code",
   "execution_count": 59,
   "metadata": {},
   "outputs": [
    {
     "name": "stdout",
     "output_type": "stream",
     "text": [
      "dict_items([('name', 'gitam'), ('address', 'hyderabad'), ('course', 'python')])\n"
     ]
    }
   ],
   "source": [
    "print(d1.items())"
   ]
  },
  {
   "cell_type": "markdown",
   "metadata": {},
   "source": [
    "# strings:\n"
   ]
  },
  {
   "cell_type": "code",
   "execution_count": 58,
   "metadata": {},
   "outputs": [
    {
     "name": "stdout",
     "output_type": "stream",
     "text": [
      "python\n",
      "<class 'str'>\n"
     ]
    }
   ],
   "source": [
    "s1=\"python\"\n",
    "print(s1)\n",
    "print(type(s1))\n"
   ]
  },
  {
   "cell_type": "code",
   "execution_count": 64,
   "metadata": {},
   "outputs": [
    {
     "name": "stdout",
     "output_type": "stream",
     "text": [
      "p\n",
      "n\n",
      "thon\n",
      "nohtyp\n",
      "nohtyp\n"
     ]
    }
   ],
   "source": [
    "print(s1[0])\n",
    "print(s1[5])\n",
    "print(s1[2:])\n",
    "print(s1[::-1])\n",
    "print(s1[-1::-1])"
   ]
  },
  {
   "cell_type": "code",
   "execution_count": 68,
   "metadata": {},
   "outputs": [
    {
     "name": "stdout",
     "output_type": "stream",
     "text": [
      "h\n",
      "pto\n",
      "python\n",
      "ph\n"
     ]
    }
   ],
   "source": [
    "print(s1[len(s1)//2])\n",
    "print(s1[0:6:2])\n",
    "print(s1[0:6:1])\n",
    "print(s1[0:6:3])"
   ]
  },
  {
   "cell_type": "code",
   "execution_count": 69,
   "metadata": {},
   "outputs": [
    {
     "data": {
      "text/plain": [
       "'gnimargorp'"
      ]
     },
     "execution_count": 69,
     "metadata": {},
     "output_type": "execute_result"
    }
   ],
   "source": [
    "# using function\n",
    "def reverseofstring(s1):\n",
    "    return s1[::-1]\n",
    "reverseofstring(\"programing\")\n",
    "    \n",
    "    "
   ]
  },
  {
   "cell_type": "code",
   "execution_count": 74,
   "metadata": {},
   "outputs": [
    {
     "name": "stdout",
     "output_type": "stream",
     "text": [
      "palindrome\n",
      "not a palindrome\n"
     ]
    }
   ],
   "source": [
    "# palindrome\n",
    "def palin(s1):   \n",
    "    rev=s1[::-1]\n",
    "    if s1 == rev:\n",
    "        return \"palindrome\"\n",
    "    else:\n",
    "        return \"not a palindrome\"\n",
    "print(palin(\"bob\"))\n",
    "print(palin(\"back\"))"
   ]
  },
  {
   "cell_type": "markdown",
   "metadata": {},
   "source": [
    "# String build-in methods \n",
    "- upper()\n",
    "- lower()\n",
    "- islower()\n",
    "- isupper()\n",
    "- istitle()\n",
    "- isnumeric()\n",
    "- isalpha()\n",
    "- isspace()"
   ]
  },
  {
   "cell_type": "code",
   "execution_count": 99,
   "metadata": {},
   "outputs": [
    {
     "name": "stdout",
     "output_type": "stream",
     "text": [
      "PYTHON\n",
      "python\n",
      "False\n",
      "False\n",
      "PYTHON\n",
      "False\n",
      "True\n",
      "True\n",
      "True\n"
     ]
    }
   ],
   "source": [
    "s1=\"python\"\n",
    "print(s1.upper())\n",
    "print(s1.lower())\n",
    "print(s1.isupper())\n",
    "print(s1.istitle())\n",
    "print(s1.upper())\n",
    "print(s1.istitle())\n",
    "s2=\"Karan\"\n",
    "print(s2.istitle())\n",
    "s3=\"2\"\n",
    "print(s3.isnumeric())\n",
    "s4=\" \"\n",
    "print(s4.isspace())"
   ]
  },
  {
   "cell_type": "markdown",
   "metadata": {},
   "source": [
    "# String Methods \n",
    "- join \n",
    "- split()\n",
    "- replace()\n"
   ]
  },
  {
   "cell_type": "code",
   "execution_count": 104,
   "metadata": {},
   "outputs": [
    {
     "name": "stdout",
     "output_type": "stream",
     "text": [
      "p,y,t,h,o,n\n"
     ]
    }
   ],
   "source": [
    "s1=\"python\"\n",
    "print(\",\".join(s1))"
   ]
  },
  {
   "cell_type": "code",
   "execution_count": 106,
   "metadata": {},
   "outputs": [
    {
     "name": "stdout",
     "output_type": "stream",
     "text": [
      "p!y!t!h!o!n! !i!s! !e!a!s!y! !t!o! !l!e!a!r!n\n",
      "['python', 'is', 'easy', 'to', 'learn']\n"
     ]
    }
   ],
   "source": [
    "s1=\"python is easy to learn\"\n",
    "print(\"!\".join(s1))\n",
    "print(s1.split())"
   ]
  },
  {
   "cell_type": "code",
   "execution_count": 110,
   "metadata": {},
   "outputs": [
    {
     "name": "stdout",
     "output_type": "stream",
     "text": [
      "['python is e', 'sy to le', 'rn']\n",
      "['p', 'y', 't', 'h', 'o', 'n', ' ', 'i', 's', ' ', 'e', 'a', 's', 'y', ' ', 't', 'o', ' ', 'l', 'e', 'a', 'r', 'n']\n"
     ]
    }
   ],
   "source": [
    "s1=\"python is easy to learn\"\n",
    "print(s1.split(\"a\"))\n",
    "li=list(s1)\n",
    "print(li)"
   ]
  },
  {
   "cell_type": "code",
   "execution_count": 111,
   "metadata": {},
   "outputs": [
    {
     "name": "stdout",
     "output_type": "stream",
     "text": [
      "python is very easy to learn\n"
     ]
    }
   ],
   "source": [
    "s1=\"python is easy to learn\"\n",
    "print(s1.replace(\"easy\",\"very easy\"))"
   ]
  },
  {
   "cell_type": "code",
   "execution_count": 132,
   "metadata": {},
   "outputs": [
    {
     "name": "stdout",
     "output_type": "stream",
     "text": [
      "[80, 85, 90]\n",
      "85\n",
      "86\n",
      "[95, 90, 86]\n"
     ]
    }
   ],
   "source": [
    "marks={\"peter\":[80,85,90],\"joe\":[86,90,95]}\n",
    "#output 1.[80,85,90]\n",
    "#2.85\n",
    "#3.86\n",
    "#4.[95,90,86]\n",
    "print(marks[\"peter\"])\n",
    "l1=marks[\"peter\"]\n",
    "l2=marks[\"joe\"]\n",
    "print(sum(l1)//len(l1))\n",
    "print(l2[0])\n",
    "print(l2[::-1])"
   ]
  },
  {
   "cell_type": "code",
   "execution_count": 138,
   "metadata": {},
   "outputs": [
    {
     "name": "stdout",
     "output_type": "stream",
     "text": [
      "dict_values([{'match': 1, 'english': 2}, [86, 90, 95]])\n"
     ]
    },
    {
     "ename": "NameError",
     "evalue": "name 'peter' is not defined",
     "output_type": "error",
     "traceback": [
      "\u001b[1;31m---------------------------------------------------------------------------\u001b[0m",
      "\u001b[1;31mNameError\u001b[0m                                 Traceback (most recent call last)",
      "\u001b[1;32m<ipython-input-138-809b0c7e9783>\u001b[0m in \u001b[0;36m<module>\u001b[1;34m\u001b[0m\n\u001b[0;32m      2\u001b[0m \u001b[1;31m#output=2\u001b[0m\u001b[1;33m\u001b[0m\u001b[1;33m\u001b[0m\u001b[1;33m\u001b[0m\u001b[0m\n\u001b[0;32m      3\u001b[0m \u001b[0mprint\u001b[0m\u001b[1;33m(\u001b[0m\u001b[0mmarks\u001b[0m\u001b[1;33m.\u001b[0m\u001b[0mvalues\u001b[0m\u001b[1;33m(\u001b[0m\u001b[1;33m)\u001b[0m\u001b[1;33m)\u001b[0m\u001b[1;33m\u001b[0m\u001b[1;33m\u001b[0m\u001b[0m\n\u001b[1;32m----> 4\u001b[1;33m \u001b[0mprint\u001b[0m\u001b[1;33m(\u001b[0m\u001b[0mpeter\u001b[0m\u001b[1;33m[\u001b[0m\u001b[1;34m\"english\"\u001b[0m\u001b[1;33m]\u001b[0m\u001b[1;33m)\u001b[0m\u001b[1;33m\u001b[0m\u001b[1;33m\u001b[0m\u001b[0m\n\u001b[0m",
      "\u001b[1;31mNameError\u001b[0m: name 'peter' is not defined"
     ]
    }
   ],
   "source": [
    "marks={\"peter\" :{\"match\":1,\"english\":2}, \"joe\": [86,90,95]}\n",
    "#output=2\n",
    "print(marks.values())\n",
    "print(peter[\"english\"])"
   ]
  },
  {
   "cell_type": "code",
   "execution_count": null,
   "metadata": {},
   "outputs": [],
   "source": []
  }
 ],
 "metadata": {
  "kernelspec": {
   "display_name": "Python 3",
   "language": "python",
   "name": "python3"
  },
  "language_info": {
   "codemirror_mode": {
    "name": "ipython",
    "version": 3
   },
   "file_extension": ".py",
   "mimetype": "text/x-python",
   "name": "python",
   "nbconvert_exporter": "python",
   "pygments_lexer": "ipython3",
   "version": "3.7.3"
  }
 },
 "nbformat": 4,
 "nbformat_minor": 2
}
