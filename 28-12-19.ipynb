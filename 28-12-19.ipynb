{
 "cells": [
  {
   "cell_type": "code",
   "execution_count": 11,
   "metadata": {},
   "outputs": [
    {
     "name": "stdout",
     "output_type": "stream",
     "text": [
      "['p', 'n', 't', 'v']\n"
     ]
    }
   ],
   "source": [
    "def split(s):\n",
    "    l1=list(s)\n",
    "    return l1[::2]\n",
    "print(split(\"pynative\"))"
   ]
  },
  {
   "cell_type": "code",
   "execution_count": 10,
   "metadata": {},
   "outputs": [
    {
     "name": "stdout",
     "output_type": "stream",
     "text": [
      "true\n",
      "false\n"
     ]
    }
   ],
   "source": [
    "def firstandlast(n):\n",
    "    if n[0]==n[-1]:\n",
    "        return \"true\"\n",
    "    else:\n",
    "        return \"false\"\n",
    "n1=[1,2,3,4,1]\n",
    "n2=[1,2,3,4,5]\n",
    "print(firstandlast(n1))\n",
    "print(firstandlast(n2))"
   ]
  },
  {
   "cell_type": "code",
   "execution_count": 49,
   "metadata": {},
   "outputs": [
    {
     "name": "stdout",
     "output_type": "stream",
     "text": [
      "1\n",
      "22\n",
      "333\n",
      "4444\n",
      "55555\n"
     ]
    }
   ],
   "source": [
    "def numberseries(n):\n",
    "    for i in range(1,n+1):\n",
    "        print(str(i)*i)\n",
    "numberseries(5)"
   ]
  },
  {
   "cell_type": "code",
   "execution_count": 50,
   "metadata": {},
   "outputs": [
    {
     "name": "stdout",
     "output_type": "stream",
     "text": [
      "enter name:karan\n",
      "enter age:20\n",
      "karan turns old in 2099\n"
     ]
    }
   ],
   "source": [
    "    p=input(\"enter name:\")\n",
    "    n=int(input(\"enter age:\"))\n",
    "    m=100-n\n",
    "    o=m+2019\n",
    "    print(p,\"turns old in\",o)"
   ]
  },
  {
   "cell_type": "code",
   "execution_count": null,
   "metadata": {},
   "outputs": [],
   "source": []
  }
 ],
 "metadata": {
  "kernelspec": {
   "display_name": "Python 3",
   "language": "python",
   "name": "python3"
  },
  "language_info": {
   "codemirror_mode": {
    "name": "ipython",
    "version": 3
   },
   "file_extension": ".py",
   "mimetype": "text/x-python",
   "name": "python",
   "nbconvert_exporter": "python",
   "pygments_lexer": "ipython3",
   "version": "3.7.3"
  }
 },
 "nbformat": 4,
 "nbformat_minor": 2
}
